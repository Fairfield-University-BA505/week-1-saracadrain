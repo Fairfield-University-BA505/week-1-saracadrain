{
 "cells": [
  {
   "cell_type": "markdown",
   "metadata": {},
   "source": [
    "# Exercise 5 - What is wrong with the following code:\n",
    "primt 'Hello world!' File \"\", line 1 primt 'Hello world!' ^ SyntaxError: invalid syntax\n",
    "\n",
    "# Answer: The word print is misspelled and there are no parentheses around 'Hello world'. The correct code should read:\n",
    "print('Hello world!')\n"
   ]
  },
  {
   "cell_type": "markdown",
   "metadata": {},
   "source": [
    "# Exercise 7 - What will the following program print out:\n",
    "x = 43 x = x + 1 print(x)\n",
    "a) 43 b) 44 c) x + 1 d) Error because x = x + 1 is not possible mathematically\n",
    "\n",
    "# Answer: The correct answer is b) 44.\n"
   ]
  },
  {
   "cell_type": "markdown",
   "metadata": {},
   "source": [
    "# Exercise 9 - How do you fix a “Syntax Error”?\n",
    "\n",
    "# Answer: Since a syntax error is caused by a violation of a Python \"grammar\" rule, \n",
    "# start by looking at where the syntax error occurred. That is the first place Python got confused. \n",
    "# Trace back from there to see where you made an error, and correct it.\n"
   ]
  },
  {
   "cell_type": "code",
   "execution_count": null,
   "metadata": {},
   "outputs": [],
   "source": []
  }
 ],
 "metadata": {
  "kernelspec": {
   "display_name": "Python 3",
   "language": "python",
   "name": "python3"
  },
  "language_info": {
   "codemirror_mode": {
    "name": "ipython",
    "version": 3
   },
   "file_extension": ".py",
   "mimetype": "text/x-python",
   "name": "python",
   "nbconvert_exporter": "python",
   "pygments_lexer": "ipython3",
   "version": "3.6.7"
  }
 },
 "nbformat": 4,
 "nbformat_minor": 2
}
